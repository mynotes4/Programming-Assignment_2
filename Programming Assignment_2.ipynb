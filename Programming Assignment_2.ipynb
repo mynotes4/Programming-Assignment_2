{
 "cells": [
  {
   "cell_type": "code",
   "execution_count": null,
   "id": "85a1edb6",
   "metadata": {},
   "outputs": [],
   "source": [
    "# 1. Write a Python program to convert kilometers to miles?\n",
    "a = float(input(\"Enter in kms. \"))\n",
    "b = a*0.621371\n",
    "print(\"In miles \", b)"
   ]
  },
  {
   "cell_type": "code",
   "execution_count": null,
   "id": "dc73755b",
   "metadata": {},
   "outputs": [],
   "source": [
    "# 2. Write a Python program to convert Celsius to Fahrenheit?\n",
    "a = float(input(\"Enter temperature in celcius \"))\n",
    "b = a*9/5+32\n",
    "print(\"Temperature in Fahrenheit \",b)"
   ]
  },
  {
   "cell_type": "code",
   "execution_count": null,
   "id": "87f5dbec",
   "metadata": {},
   "outputs": [],
   "source": [
    "# Write a Python program to display calendar?\n",
    "import calendar\n",
    "yy = int(input(\"Enter Year \"))\n",
    "mm = int(input(\"Enter Month No eg 1 for jan , 2 for feb \"))\n",
    "print(calendar.month(yy,mm))"
   ]
  },
  {
   "cell_type": "code",
   "execution_count": null,
   "id": "edc4ce50",
   "metadata": {},
   "outputs": [],
   "source": [
    "# 4. Write a Python program to solve quadratic equation?\n",
    "import cmath\n",
    "a = float(input(\"Enter coff. of x^2 \"))\n",
    "b = float(input(\"Enter coff. of x \"))\n",
    "c = float(input(\"Enter constant \"))\n",
    "print(\"Equation is \",a,\"x^2 + \",b,\"x + \",c)\n",
    "s = cmath.sqrt(b**2 - 4*a*c)\n",
    "s1 = (-b + s)/(2*a)\n",
    "print(\"Solution 1 \" , s1)\n",
    "s2 = (-b - s)/(2*a)\n",
    "print(\"Solution 2 \" , s2)"
   ]
  },
  {
   "cell_type": "code",
   "execution_count": null,
   "id": "f106353b",
   "metadata": {},
   "outputs": [],
   "source": [
    "# 5. Write a Python program to swap two variables without temp variable?\n",
    "a = int(input(\"Enter First Variable \"))\n",
    "b = int(input(\"Enter Second Variable \"))\n",
    "a = a + b\n",
    "b = a - b\n",
    "a = a - b\n",
    "print(\"First Variable \" , a)\n",
    "print(\"Second Variable \" , b)"
   ]
  },
  {
   "cell_type": "code",
   "execution_count": null,
   "id": "4bbdc9a6",
   "metadata": {},
   "outputs": [],
   "source": []
  }
 ],
 "metadata": {
  "kernelspec": {
   "display_name": "Python 3 (ipykernel)",
   "language": "python",
   "name": "python3"
  },
  "language_info": {
   "codemirror_mode": {
    "name": "ipython",
    "version": 3
   },
   "file_extension": ".py",
   "mimetype": "text/x-python",
   "name": "python",
   "nbconvert_exporter": "python",
   "pygments_lexer": "ipython3",
   "version": "3.9.12"
  }
 },
 "nbformat": 4,
 "nbformat_minor": 5
}
